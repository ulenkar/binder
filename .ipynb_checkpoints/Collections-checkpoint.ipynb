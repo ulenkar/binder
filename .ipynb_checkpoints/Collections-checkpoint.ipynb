{
 "cells": [
  {
   "cell_type": "markdown",
   "metadata": {},
   "source": [
    "Rodzaje kolekcji:\n",
    "\n",
    "* mutable - list, set - methods on list can change it\n",
    "* immutable - tuple - methods on tuple don’t modify it"
   ]
  },
  {
   "cell_type": "markdown",
   "metadata": {},
   "source": [
    "# Lists"
   ]
  },
  {
   "cell_type": "markdown",
   "metadata": {},
   "source": [
    "Operacje:\n",
    "\n",
    "* dodawanie list - łączenie\n",
    "* sorted(list) - zwraca nową listę\n",
    "* zip(onelist, twolist) - zwraca mapę (type zip)"
   ]
  },
  {
   "cell_type": "code",
   "execution_count": 1,
   "metadata": {},
   "outputs": [
    {
     "name": "stdout",
     "output_type": "stream",
     "text": [
      "['Ximena', 'Aliza', 'Ayden', 'Calvin', 'Rowen', 'Sandeep']\n",
      "['Ximena', 'Ayden', 'Calvin', 'Rowen', 'Sandeep']\n"
     ]
    }
   ],
   "source": [
    "# Create a list containing the names: baby_names\n",
    "baby_names = ['Ximena', 'Aliza', 'Ayden', 'Calvin']\n",
    "\n",
    "# Extend baby_names with 'Rowen' and 'Sandeep'\n",
    "baby_names.extend(['Rowen', 'Sandeep'])\n",
    "\n",
    "# Print baby_names\n",
    "print(baby_names)\n",
    "\n",
    "# Find the position of 'Aliza': position\n",
    "position = baby_names.index('Aliza')\n",
    "\n",
    "# Remove 'Aliza' from baby_names\n",
    "baby_names.pop(position)\n",
    "\n",
    "# Print baby_names\n",
    "print(baby_names)"
   ]
  },
  {
   "cell_type": "code",
   "execution_count": 2,
   "metadata": {},
   "outputs": [
    {
     "name": "stdout",
     "output_type": "stream",
     "text": [
      "Ayden\n",
      "Calvin\n",
      "Rowen\n",
      "Sandeep\n",
      "Ximena\n"
     ]
    }
   ],
   "source": [
    "# Sort the names in alphabetical order\n",
    "for name in sorted(baby_names):\n",
    "    # Print each name\n",
    "    print(name)"
   ]
  },
  {
   "cell_type": "markdown",
   "metadata": {},
   "source": [
    "# Tuples"
   ]
  },
  {
   "cell_type": "code",
   "execution_count": 5,
   "metadata": {},
   "outputs": [
    {
     "name": "stdout",
     "output_type": "stream",
     "text": [
      "<class 'tuple'>\n",
      "0: Ximena is 1 years old.\n",
      "<class 'tuple'>\n",
      "1: Aliza is 3 years old.\n",
      "<class 'tuple'>\n",
      "2: Ayden is 2 years old.\n",
      "<class 'tuple'>\n",
      "3: Calvin is 3 years old.\n"
     ]
    }
   ],
   "source": [
    "baby_names = ['Ximena', 'Aliza', 'Ayden', 'Calvin']\n",
    "ages = [1, 3, 2, 3]\n",
    "\n",
    "# Pair up the name and age: pairs\n",
    "pairs = zip(baby_names, ages) # powstaje mapa (type: zip)\n",
    "\n",
    "# Iterate over pairs\n",
    "for idx, pair in enumerate(pairs):\n",
    "    # print(type(pair)) (type: tuple)\n",
    "    # Unpack pair: girl_name, boy_name\n",
    "    name, age = pair\n",
    "    # Print the rank and names associated with each rank\n",
    "    print('{}: {} is {} years old.'.format(idx, name, age))"
   ]
  },
  {
   "cell_type": "markdown",
   "metadata": {},
   "source": [
    "# Sets"
   ]
  },
  {
   "cell_type": "markdown",
   "metadata": {},
   "source": [
    "Characteristics:\n",
    "- unique\n",
    "- unordered\n",
    "- mutable\n",
    "\n",
    "Operations:\n",
    "- .add() - single element\n",
    "- .update() - merge in another set or list\n",
    "- .discard(‘element’) - remove element by value\n",
    "- .pop() - removes arbitrary element (przypadkowy)\n",
    "- oneset.union(secondset) - two sets joined with OR\n",
    "- oneset.intersection(secondset) - two sets joined with AND\n",
    "- jason_ate.difference(hugo_ate) - what jason ate and hugo didn’t (MINUS)"
   ]
  },
  {
   "cell_type": "code",
   "execution_count": 8,
   "metadata": {},
   "outputs": [
    {
     "name": "stdout",
     "output_type": "stream",
     "text": [
      "<class 'set'>\n",
      "6\n",
      "1\n"
     ]
    }
   ],
   "source": [
    "baby_names_2011 = {'Ximena', 'Aliza', 'Ayden', 'Calvin'}\n",
    "baby_names_2014 = {'Yan', 'Hugo', 'Ayden'}\n",
    "print(type(baby_names_2011))\n",
    "\n",
    "# Find the union: all_names\n",
    "all_names = baby_names_2011.union(baby_names_2014)\n",
    "\n",
    "# Print the count of names in all_names\n",
    "print(len(all_names))\n",
    "\n",
    "# Find the intersection: overlapping_names\n",
    "overlapping_names = baby_names_2011.intersection(baby_names_2014)\n",
    "\n",
    "# Print the count of names in overlapping_names\n",
    "print(len(overlapping_names))"
   ]
  },
  {
   "cell_type": "markdown",
   "metadata": {},
   "source": [
    "# Dictionaries"
   ]
  },
  {
   "cell_type": "code",
   "execution_count": 10,
   "metadata": {},
   "outputs": [
    {
     "name": "stdout",
     "output_type": "stream",
     "text": [
      "Monika\n",
      "Jola\n",
      "Jula\n"
     ]
    }
   ],
   "source": [
    "# Create an empty dictionary: names_by_rank\n",
    "names_by_rank = {\n",
    "    1: \"Anna\",\n",
    "    2: \"Ola\",\n",
    "    3: \"Ela\",\n",
    "    6: \"Jula\",\n",
    "    5: \"Ewa\",\n",
    "    8: \"Monika\",\n",
    "    7: \"Jola\",\n",
    "    4: \"Natalia\"\n",
    "}\n",
    "\n",
    "# Sort the names_by_rank dict by rank in descending order and slice the first 10 items\n",
    "for rank in sorted(names_by_rank, reverse=True)[:3]:\n",
    "    # Print each item\n",
    "    print(names_by_rank[rank])"
   ]
  },
  {
   "cell_type": "code",
   "execution_count": null,
   "metadata": {},
   "outputs": [],
   "source": []
  }
 ],
 "metadata": {
  "kernelspec": {
   "display_name": "Python 3",
   "language": "python",
   "name": "python3"
  },
  "language_info": {
   "codemirror_mode": {
    "name": "ipython",
    "version": 3
   },
   "file_extension": ".py",
   "mimetype": "text/x-python",
   "name": "python",
   "nbconvert_exporter": "python",
   "pygments_lexer": "ipython3",
   "version": "3.8.5"
  }
 },
 "nbformat": 4,
 "nbformat_minor": 4
}
