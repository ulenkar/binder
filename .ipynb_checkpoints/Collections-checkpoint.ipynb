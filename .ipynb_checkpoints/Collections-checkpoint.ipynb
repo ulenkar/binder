{
 "cells": [
  {
   "cell_type": "markdown",
   "metadata": {},
   "source": [
    "# Collections"
   ]
  },
  {
   "cell_type": "markdown",
   "metadata": {},
   "source": [
    "## Tutorial:\n",
    "https://campus.datacamp.com/courses/data-types-for-data-science-in-python"
   ]
  },
  {
   "cell_type": "markdown",
   "metadata": {},
   "source": [
    "## Rodzaje kolekcji:\n",
    "\n",
    "* mutable - list, set - methods on list can change it\n",
    "* immutable - tuple - methods on tuple don’t modify it"
   ]
  },
  {
   "cell_type": "markdown",
   "metadata": {},
   "source": [
    "# Lists"
   ]
  },
  {
   "cell_type": "markdown",
   "metadata": {},
   "source": [
    "Operacje:\n",
    "\n",
    "* dodawanie list - łączenie\n",
    "* sorted(list) - zwraca nową listę\n",
    "* zip(onelist, twolist) - zwraca mapę (type zip)"
   ]
  },
  {
   "cell_type": "code",
   "execution_count": 1,
   "metadata": {},
   "outputs": [
    {
     "name": "stdout",
     "output_type": "stream",
     "text": [
      "['Ximena', 'Aliza', 'Ayden', 'Calvin', 'Rowen', 'Sandeep']\n",
      "['Ximena', 'Ayden', 'Calvin', 'Rowen', 'Sandeep']\n"
     ]
    }
   ],
   "source": [
    "# Create a list containing the names: baby_names\n",
    "baby_names = ['Ximena', 'Aliza', 'Ayden', 'Calvin']\n",
    "\n",
    "# Extend baby_names with 'Rowen' and 'Sandeep'\n",
    "baby_names.extend(['Rowen', 'Sandeep'])\n",
    "\n",
    "# Print baby_names\n",
    "print(baby_names)\n",
    "\n",
    "# Find the position of 'Aliza': position\n",
    "position = baby_names.index('Aliza')\n",
    "\n",
    "# Remove 'Aliza' from baby_names\n",
    "baby_names.pop(position)\n",
    "\n",
    "# Print baby_names\n",
    "print(baby_names)"
   ]
  },
  {
   "cell_type": "code",
   "execution_count": 2,
   "metadata": {},
   "outputs": [
    {
     "name": "stdout",
     "output_type": "stream",
     "text": [
      "Ayden\n",
      "Calvin\n",
      "Rowen\n",
      "Sandeep\n",
      "Ximena\n"
     ]
    }
   ],
   "source": [
    "# Sort the names in alphabetical order\n",
    "for name in sorted(baby_names):\n",
    "    # Print each name\n",
    "    print(name)"
   ]
  },
  {
   "cell_type": "markdown",
   "metadata": {},
   "source": [
    "# Tuples"
   ]
  },
  {
   "cell_type": "code",
   "execution_count": 5,
   "metadata": {},
   "outputs": [
    {
     "name": "stdout",
     "output_type": "stream",
     "text": [
      "<class 'tuple'>\n",
      "0: Ximena is 1 years old.\n",
      "<class 'tuple'>\n",
      "1: Aliza is 3 years old.\n",
      "<class 'tuple'>\n",
      "2: Ayden is 2 years old.\n",
      "<class 'tuple'>\n",
      "3: Calvin is 3 years old.\n"
     ]
    }
   ],
   "source": [
    "baby_names = ['Ximena', 'Aliza', 'Ayden', 'Calvin']\n",
    "ages = [1, 3, 2, 3]\n",
    "\n",
    "# Pair up the name and age: pairs\n",
    "pairs = zip(baby_names, ages) # powstaje mapa (type: zip)\n",
    "\n",
    "# Iterate over pairs\n",
    "for idx, pair in enumerate(pairs):\n",
    "    # print(type(pair)) (type: tuple)\n",
    "    # Unpack pair: girl_name, boy_name\n",
    "    name, age = pair\n",
    "    # Print the rank and names associated with each rank\n",
    "    print('{}: {} is {} years old.'.format(idx, name, age))"
   ]
  },
  {
   "cell_type": "markdown",
   "metadata": {},
   "source": [
    "# Sets"
   ]
  },
  {
   "cell_type": "markdown",
   "metadata": {},
   "source": [
    "Characteristics:\n",
    "- unique\n",
    "- unordered\n",
    "- mutable\n",
    "\n",
    "Operations:\n",
    "- .add() - single element\n",
    "- .update() - merge in another set or list\n",
    "- .discard(‘element’) - remove element by value\n",
    "- .pop() - removes arbitrary element (przypadkowy)\n",
    "- oneset.union(secondset) - two sets joined with OR\n",
    "- oneset.intersection(secondset) - two sets joined with AND\n",
    "- jason_ate.difference(hugo_ate) - what jason ate and hugo didn’t (MINUS)"
   ]
  },
  {
   "cell_type": "code",
   "execution_count": 8,
   "metadata": {},
   "outputs": [
    {
     "name": "stdout",
     "output_type": "stream",
     "text": [
      "<class 'set'>\n",
      "6\n",
      "1\n"
     ]
    }
   ],
   "source": [
    "baby_names_2011 = {'Ximena', 'Aliza', 'Ayden', 'Calvin'}\n",
    "baby_names_2014 = {'Yan', 'Hugo', 'Ayden'}\n",
    "print(type(baby_names_2011))\n",
    "\n",
    "# Find the union: all_names\n",
    "all_names = baby_names_2011.union(baby_names_2014)\n",
    "\n",
    "# Print the count of names in all_names\n",
    "print(len(all_names))\n",
    "\n",
    "# Find the intersection: overlapping_names\n",
    "overlapping_names = baby_names_2011.intersection(baby_names_2014)\n",
    "\n",
    "# Print the count of names in overlapping_names\n",
    "print(len(overlapping_names))"
   ]
  },
  {
   "cell_type": "markdown",
   "metadata": {},
   "source": [
    "# Dictionaries"
   ]
  },
  {
   "cell_type": "code",
   "execution_count": 10,
   "metadata": {},
   "outputs": [
    {
     "name": "stdout",
     "output_type": "stream",
     "text": [
      "Monika\n",
      "Jola\n",
      "Jula\n"
     ]
    }
   ],
   "source": [
    "# Create empty dictionary\n",
    "new_dict = dict()\n",
    "new_dict = {}\n",
    "\n",
    "# Create a dictionary: names_by_rank\n",
    "names_by_rank = {\n",
    "    1: \"Anna\",\n",
    "    2: \"Ola\",\n",
    "    3: \"Ela\",\n",
    "    6: \"Jula\",\n",
    "    5: \"Ewa\",\n",
    "    8: \"Monika\",\n",
    "    7: \"Jola\",\n",
    "    4: \"Natalia\"\n",
    "}\n",
    "\n",
    "# Sort the names_by_rank dict by rank in descending order and slice the first 10 items\n",
    "for rank in sorted(names_by_rank, reverse=True)[:3]:\n",
    "    # Print each item\n",
    "    print(names_by_rank[rank])"
   ]
  },
  {
   "cell_type": "code",
   "execution_count": 11,
   "metadata": {},
   "outputs": [
    {
     "name": "stdout",
     "output_type": "stream",
     "text": [
      "Jola\n",
      "<class 'NoneType'>\n",
      "Not Found\n"
     ]
    }
   ],
   "source": [
    "# Safely print rank 7 from the names_by_rank dictionary\n",
    "print(names_by_rank.get(7))\n",
    "\n",
    "# Safely print the type of rank 100 from the names_by_rank dictionary\n",
    "print(type(names_by_rank.get(100)))\n",
    "\n",
    "# Safely print rank 105 from the names_by_rank dictionary or 'Not Found'\n",
    "print(names_by_rank.get(105, 'Not Found'))"
   ]
  },
  {
   "cell_type": "code",
   "execution_count": 12,
   "metadata": {},
   "outputs": [
    {
     "name": "stdout",
     "output_type": "stream",
     "text": [
      "dict_keys([2012, 2013, 2014])\n",
      "dict_keys([1, 2, 3])\n",
      "2012 Unknown\n",
      "2013 Michael\n",
      "2014 Michael\n"
     ]
    }
   ],
   "source": [
    "boy_names = {\n",
    "    2012: {}, \n",
    "    2013: {1: 'David', 2: 'Joseph', 3: 'Michael'}, \n",
    "    2014: {1: 'Joseph', 2: 'David', 3: 'Michael', 4: 'Moshe', 5: 'Jacob'}\n",
    "}\n",
    "\n",
    "# Print a list of keys from the boy_names dictionary\n",
    "print(boy_names.keys())\n",
    "\n",
    "# Print a list of keys from the boy_names dictionary for the year 2013\n",
    "print(boy_names.get(2013).keys())\n",
    "\n",
    "# Loop over the dictionary\n",
    "for year in boy_names:\n",
    "    # Safely print the year and the third ranked name or 'Unknown'\n",
    "    print(year, boy_names[year].get(3, 'Unknown'))"
   ]
  },
  {
   "cell_type": "markdown",
   "metadata": {},
   "source": [
    "**Dictionaries are mutable - we can add / update / delete data.**"
   ]
  },
  {
   "cell_type": "markdown",
   "metadata": {},
   "source": [
    "### updating dictionary"
   ]
  },
  {
   "cell_type": "code",
   "execution_count": 14,
   "metadata": {},
   "outputs": [
    {
     "name": "stdout",
     "output_type": "stream",
     "text": [
      "2012 Jacob\n",
      "2013 Michael\n",
      "2014 Jacob\n"
     ]
    }
   ],
   "source": [
    "names_2012 = {1: 'Michael', 2: 'David', 3: 'Joseph', 4: 'Moshe', 5: 'Jacob'}\n",
    "\n",
    "# Assign the names_2012 dictionary as the value to the 2012 key of boy_names\n",
    "boy_names[2012] = names_2012\n",
    "\n",
    "# Update the 2012 key in the boy_names dictionary\n",
    "boy_names[2012].update([(1,'Casey'), (2,'Aiden')])\n",
    "\n",
    "# Loop over the years in the boy_names dictionary \n",
    "for year in boy_names:\n",
    "    # sort the data for each year by descending rank and get the lowest one\n",
    "    lowest_ranked = sorted(boy_names[year], reverse=True)[0]\n",
    "    # Safely print the year and the least popular name or 'Not Available'\n",
    "    print(year, boy_names[year].get(lowest_ranked, 'Not Available'))"
   ]
  },
  {
   "cell_type": "markdown",
   "metadata": {},
   "source": [
    "### deleting from dictionary"
   ]
  },
  {
   "cell_type": "code",
   "execution_count": 15,
   "metadata": {},
   "outputs": [
    {
     "name": "stdout",
     "output_type": "stream",
     "text": [
      "{2013: {1: 'Olivia', 2: 'Emma', 3: 'Esther', 4: 'Sophia', 5: 'Sarah'}, 2014: {1: 'Olivia', 2: 'Emma', 3: 'Esther', 4: 'Sophia', 5: 'Sarah'}}\n"
     ]
    }
   ],
   "source": [
    "female_names = {\n",
    "    2011: {1: 'Olivia', 2: 'Emma', 3: 'Esther', 4: 'Sophia', 5: 'Sarah'},\n",
    "    2012: {1: 'Olivia', 2: 'Emma', 3: 'Esther', 4: 'Sophia', 5: 'Sarah'},\n",
    "    2013: {1: 'Olivia', 2: 'Emma', 3: 'Esther', 4: 'Sophia', 5: 'Sarah'},\n",
    "    2014: {1: 'Olivia', 2: 'Emma', 3: 'Esther', 4: 'Sophia', 5: 'Sarah'},\n",
    "    2015: {1: 'Olivia', 2: 'Emma', 3: 'Esther', 4: 'Sophia', 5: 'Sarah'},\n",
    "}\n",
    "\n",
    "# Remove 2011 from female_names and store it: female_names_2011\n",
    "female_names_2011 = female_names.pop(2011)\n",
    "\n",
    "# Safely remove 2015 from female_names with an empty dictionary as the default: female_names_2015\n",
    "female_names_2015 = female_names.pop(2015, {})\n",
    "\n",
    "# Delete 2012 from female_names\n",
    "del female_names[2012]\n",
    "\n",
    "# Print female_names\n",
    "print(female_names)"
   ]
  },
  {
   "cell_type": "markdown",
   "metadata": {},
   "source": [
    "### iterating dictionary"
   ]
  },
  {
   "cell_type": "code",
   "execution_count": 16,
   "metadata": {},
   "outputs": [
    {
     "name": "stdout",
     "output_type": "stream",
     "text": [
      "1 Olivia\n",
      "2 Emma\n",
      "3 Esther\n",
      "4 Sophia\n",
      "5 Sarah\n"
     ]
    }
   ],
   "source": [
    "# Iterate over the 2014 nested dictionary\n",
    "for rank, name in female_names[2014].items():\n",
    "    # Print rank and name\n",
    "    print(rank, name)"
   ]
  },
  {
   "cell_type": "code",
   "execution_count": 20,
   "metadata": {},
   "outputs": [
    {
     "name": "stdout",
     "output_type": "stream",
     "text": [
      "Not found 2011 in female_names\n",
      "Found Rank 1 in 2013\n",
      "Found Rank 5\n"
     ]
    }
   ],
   "source": [
    "# Check to see if 2011 is in female_names\n",
    "if 2011 in female_names:\n",
    "    # Print 'Found 2011'\n",
    "    print('Found 2011 in female_names')\n",
    "else:\n",
    "    print('Not found 2011 in female_names')\n",
    "    \n",
    "# Check to see if rank 1 is in 2013\n",
    "if 1 in female_names[2013]:\n",
    "    # Print 'Found Rank 1 in 2013' if found\n",
    "    print('Found Rank 1 in 2013')\n",
    "else:\n",
    "    # Print 'Rank 1 missing from 2013' if not found\n",
    "    print('Rank 1 missing from 2013')\n",
    "    \n",
    "# Check to see if Rank 5 is in 2014\n",
    "if 5 in female_names[2014]:\n",
    "   # Print 'Found Rank 5'\n",
    "   print('Found Rank 5')"
   ]
  }
 ],
 "metadata": {
  "kernelspec": {
   "display_name": "Python 3",
   "language": "python",
   "name": "python3"
  },
  "language_info": {
   "codemirror_mode": {
    "name": "ipython",
    "version": 3
   },
   "file_extension": ".py",
   "mimetype": "text/x-python",
   "name": "python",
   "nbconvert_exporter": "python",
   "pygments_lexer": "ipython3",
   "version": "3.8.5"
  }
 },
 "nbformat": 4,
 "nbformat_minor": 4
}
