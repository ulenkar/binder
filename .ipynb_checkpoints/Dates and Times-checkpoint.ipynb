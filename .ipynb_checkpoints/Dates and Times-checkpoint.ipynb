{
 "cells": [
  {
   "cell_type": "markdown",
   "metadata": {},
   "source": [
    "# Dates and Times\n",
    "\n",
    "* .strptime() - parsing strings into datetimes\n",
    "* .strftime() - parsing datetimes into strings"
   ]
  },
  {
   "cell_type": "code",
   "execution_count": 1,
   "metadata": {},
   "outputs": [
    {
     "name": "stdout",
     "output_type": "stream",
     "text": [
      "2001-02-19 00:00:00\n",
      "2001-04-10 00:00:00\n",
      "2001-05-30 00:00:00\n",
      "2001-07-19 00:00:00\n",
      "2001-09-07 00:00:00\n",
      "2001-10-27 00:00:00\n",
      "2001-12-16 00:00:00\n",
      "2002-02-04 00:00:00\n",
      "2002-03-26 00:00:00\n",
      "2002-05-15 00:00:00\n",
      "2002-07-04 00:00:00\n",
      "2002-08-23 00:00:00\n",
      "2002-10-12 00:00:00\n",
      "2002-12-01 00:00:00\n",
      "2003-01-20 00:00:00\n",
      "2003-03-11 00:00:00\n",
      "2003-04-30 00:00:00\n",
      "2003-06-19 00:00:00\n",
      "2003-08-08 00:00:00\n",
      "2003-09-27 00:00:00\n",
      "2003-11-16 00:00:00\n",
      "2004-01-05 00:00:00\n",
      "2004-02-24 00:00:00\n",
      "2004-04-14 00:00:00\n",
      "2004-06-03 00:00:00\n",
      "2004-07-23 00:00:00\n",
      "2004-09-11 00:00:00\n"
     ]
    }
   ],
   "source": [
    "# Import the datetime object from datetime\n",
    "from datetime import datetime\n",
    "\n",
    "dates_list = ['02/19/2001', '04/10/2001', '05/30/2001', '07/19/2001', '09/07/2001', '10/27/2001', '12/16/2001', \n",
    "              '02/04/2002', '03/26/2002', '05/15/2002', '07/04/2002', '08/23/2002', '10/12/2002', '12/01/2002', \n",
    "              '01/20/2003', '03/11/2003', '04/30/2003', '06/19/2003', '08/08/2003', '09/27/2003', '11/16/2003', \n",
    "              '01/05/2004', '02/24/2004', '04/14/2004', '06/03/2004', '07/23/2004', '09/11/2004']\n",
    "\n",
    "# Iterate over the dates_list \n",
    "for date_str in dates_list:\n",
    "    # Convert each date to a datetime object: date_dt\n",
    "    date_dt = datetime.strptime(date_str, '%m/%d/%Y')\n",
    "    \n",
    "    # Print each date_dt\n",
    "    print(date_dt)"
   ]
  },
  {
   "cell_type": "code",
   "execution_count": 26,
   "metadata": {},
   "outputs": [
    {
     "name": "stdout",
     "output_type": "stream",
     "text": [
      "02/19/2001\n",
      "2001-02-19T00:00:00\n",
      "04/10/2001\n",
      "2001-04-10T00:00:00\n",
      "05/30/2001\n",
      "2001-05-30T00:00:00\n",
      "07/19/2001\n",
      "2001-07-19T00:00:00\n",
      "09/07/2001\n",
      "2001-09-07T00:00:00\n",
      "10/27/2001\n",
      "2001-10-27T00:00:00\n",
      "12/16/2001\n",
      "2001-12-16T00:00:00\n",
      "02/04/2002\n",
      "2002-02-04T00:00:00\n",
      "03/26/2002\n",
      "2002-03-26T00:00:00\n",
      "05/15/2002\n",
      "2002-05-15T00:00:00\n"
     ]
    }
   ],
   "source": [
    "datetimes_list = [datetime(2001, 2, 19, 0, 0), datetime(2001, 4, 10, 0, 0), datetime(2001, 5, 30, 0, 0), \n",
    "                  datetime(2001, 7, 19, 0, 0), datetime(2001, 9, 7, 0, 0), datetime(2001, 10, 27, 0, 0), \n",
    "                  datetime(2001, 12, 16, 0, 0), datetime(2002, 2, 4, 0, 0), datetime(2002, 3, 26, 0, 0), \n",
    "                  datetime(2002, 5, 15, 0, 0)]\n",
    "\n",
    "# Loop over the first 10 items of the datetimes_list\n",
    "for item in datetimes_list[:10]:\n",
    "    # Print out the record as a string in the format of 'MM/DD/YYYY'\n",
    "    print(datetime.strftime(item, '%m/%d/%Y'))\n",
    "    \n",
    "    # Print out the record as an ISO standard string\n",
    "    print(datetime.isoformat(item))"
   ]
  },
  {
   "cell_type": "code",
   "execution_count": 12,
   "metadata": {},
   "outputs": [
    {
     "name": "stdout",
     "output_type": "stream",
     "text": [
      "defaultdict(<class 'int'>, {1: 5936156, 2: 2954340, 3: 3165218})\n"
     ]
    }
   ],
   "source": [
    "from collections import defaultdict\n",
    "\n",
    "daily_summaries = [('01/01/2001', 'U', '297192', '126455', '423647'), \n",
    "                   ('01/02/2001', 'W', '780827', '501952', '1282779'), \n",
    "                   ('01/03/2001', 'W', '824923', '536432', '1361355'), \n",
    "                   ('01/04/2001', 'W', '870021', '550011', '1420032'), \n",
    "                   ('01/05/2001', 'W', '890426', '557917', '1448343'), \n",
    "                   ('02/01/2001', 'A', '577401', '255356', '832757'), \n",
    "                   ('02/02/2001', 'U', '375831', '169825', '545656'),\n",
    "                   ('02/03/2001', 'W', '985221', '590706', '1575927'), \n",
    "                   ('03/01/2001', 'W', '978377', '599905', '1578282'), \n",
    "                   ('03/02/2001', 'W', '984884', '602052', '1586936')]\n",
    "\n",
    "# Create a defaultdict of an integer: monthly_total_rides\n",
    "monthly_total_rides = defaultdict(int)\n",
    "\n",
    "# Loop over the list daily_summaries\n",
    "for daily_summary in daily_summaries:\n",
    "    # Convert the service_date to a datetime object\n",
    "    service_datetime = datetime.strptime(daily_summary[0], '%m/%d/%Y')\n",
    "\n",
    "    # Add the total rides to the current amount for the month\n",
    "    monthly_total_rides[service_datetime.month] += int(daily_summary[4])\n",
    "    \n",
    "# Print monthly_total_rides\n",
    "print(monthly_total_rides)"
   ]
  },
  {
   "cell_type": "code",
   "execution_count": 13,
   "metadata": {},
   "outputs": [
    {
     "name": "stdout",
     "output_type": "stream",
     "text": [
      "2020-07-24 15:45:35.800920\n",
      "2020-07-24 13:45:35.800920\n"
     ]
    }
   ],
   "source": [
    "# Compute the local datetime: local_dt\n",
    "local_dt = datetime.now()\n",
    "\n",
    "# Print the local datetime\n",
    "print(local_dt)\n",
    "\n",
    "# Compute the UTC datetime: utc_dt\n",
    "utc_dt = datetime.utcnow()\n",
    "\n",
    "# Print the UTC datetime\n",
    "print(utc_dt)"
   ]
  },
  {
   "cell_type": "markdown",
   "metadata": {},
   "source": [
    "## Timezones\n",
    "\n",
    "* pytz library\n",
    "CT = timezone('US/Central')\n",
    "All timezones: https://en.wikipedia.org/wiki/List_of_tz_database_time_zones"
   ]
  },
  {
   "cell_type": "code",
   "execution_count": 25,
   "metadata": {},
   "outputs": [
    {
     "name": "stdout",
     "output_type": "stream",
     "text": [
      "Chicago: 2001-01-01 05:35:00-05:51, NY: 2001-01-01 06:26:00-05:00, Ridership: 126455\n",
      "Chicago: 2001-01-02 14:29:00-05:51, NY: 2001-01-02 15:20:00-05:00, Ridership: 501952\n",
      "Chicago: 2001-01-03 00:20:00-05:51, NY: 2001-01-03 01:11:00-05:00, Ridership: 536432\n",
      "Chicago: 2001-01-04 16:59:00-05:51, NY: 2001-01-04 17:50:00-05:00, Ridership: 550011\n",
      "Chicago: 2001-01-05 14:56:00-05:51, NY: 2001-01-05 15:47:00-05:00, Ridership: 557917\n",
      "Chicago: 2001-01-06 21:19:00-05:51, NY: 2001-01-06 22:10:00-05:00, Ridership: 255356\n",
      "Chicago: 2001-01-07 07:26:00-05:51, NY: 2001-01-07 08:17:00-05:00, Ridership: 169825\n",
      "Chicago: 2001-01-08 19:14:00-05:51, NY: 2001-01-08 20:05:00-05:00, Ridership: 590706\n",
      "Chicago: 2001-01-09 18:51:00-05:51, NY: 2001-01-09 19:42:00-05:00, Ridership: 599905\n"
     ]
    }
   ],
   "source": [
    "from pytz import timezone\n",
    "\n",
    "daily_summaries = [(datetime(2001, 1, 1, 5, 35), '126455'),  (datetime(2001, 1, 2, 14, 29), '501952'), \n",
    "                   (datetime(2001, 1, 3, 0, 20), '536432'),  (datetime(2001, 1, 4, 16, 59), '550011'), \n",
    "                   (datetime(2001, 1, 5, 14, 56), '557917'), (datetime(2001, 1, 6, 21, 19), '255356'), \n",
    "                   (datetime(2001, 1, 7, 7, 26), '169825'),  (datetime(2001, 1, 8, 19, 14), '590706'), \n",
    "                   (datetime(2001, 1, 9, 18, 51), '599905')]\n",
    "\n",
    "# Create a Timezone object for Chicago\n",
    "chicago_usa_tz = timezone('US/Central')\n",
    "\n",
    "# Create a Timezone object for New York\n",
    "ny_usa_tz = timezone('US/Eastern')\n",
    "\n",
    "# Iterate over the daily_summaries list\n",
    "for orig_dt, ridership in daily_summaries:\n",
    "\n",
    "    # Make the orig_dt timezone \"aware\" for Chicago\n",
    "    chicago_dt = orig_dt.replace(tzinfo=chicago_usa_tz)\n",
    "    \n",
    "    # Convert chicago_dt to the New York Timezone\n",
    "    ny_dt = chicago_dt.astimezone(ny_usa_tz)\n",
    "    \n",
    "    # Print the chicago_dt, ny_dt, and ridership\n",
    "    print('Chicago: %s, NY: %s, Ridership: %s' % (chicago_dt, ny_dt, ridership))\n",
    "\n"
   ]
  },
  {
   "cell_type": "markdown",
   "metadata": {},
   "source": [
    "## Adding and subtracting time\n",
    "\n",
    "* timedelta - is used to represent an amountof change in time"
   ]
  },
  {
   "cell_type": "code",
   "execution_count": 33,
   "metadata": {},
   "outputs": [
    {
     "name": "stdout",
     "output_type": "stream",
     "text": [
      "Date: 2006-05-18 00:00:00, Type: W, Total Ridership: 1640304\n",
      "Date: 2006-04-18 00:00:00, Type: W, Total Ridership: 1670733\n",
      "Date: 2013-04-21 00:00:00, Type: U, Total Ridership: 755011\n",
      "Date: 2013-03-22 00:00:00, Type: A, Total Ridership: 1037455\n",
      "Date: 2011-10-02 00:00:00, Type: U, Total Ridership: 830929\n",
      "Date: 2011-09-02 00:00:00, Type: W, Total Ridership: 1593372\n",
      "Date: 2007-08-13 00:00:00, Type: W, Total Ridership: 1475645\n",
      "Date: 2007-07-14 00:00:00, Type: W, Total Ridership: 1682698\n"
     ]
    }
   ],
   "source": [
    "from datetime import datetime\n",
    "# Import timedelta from the datetime module\n",
    "from datetime import timedelta\n",
    "\n",
    "daily_summaries = {\n",
    "    datetime(2006, 5, 18, 0, 0): {'day_type': 'W', 'total_ridership': '1640304'},\n",
    "    datetime(2013, 4, 21, 0, 0): {'day_type': 'U', 'total_ridership': '755011'},\n",
    "    datetime(2011, 10, 2, 0, 0): {'day_type': 'U', 'total_ridership': '830929'},\n",
    "    datetime(2007, 8, 13, 0, 0): {'day_type': 'W', 'total_ridership': '1475645'},\n",
    "    datetime(2006, 4, 18, 0, 0): {'day_type': 'W', 'total_ridership': '1670733'}, \n",
    "    datetime(2013, 3, 22, 0, 0): {'day_type': 'A', 'total_ridership': '1037455'},\n",
    "    datetime(2011, 9, 2, 0, 0): {'day_type': 'W', 'total_ridership': '1593372'},\n",
    "    datetime(2007, 7, 14, 0, 0): {'day_type': 'W', 'total_ridership': '1682698'}\n",
    "}\n",
    "\n",
    "review_dates = [datetime(2006, 5, 18, 0, 0), datetime(2013, 4, 21, 0, 0), datetime(2011, 10, 2, 0, 0), \n",
    "                datetime(2007, 8, 13, 0, 0)]\n",
    "\n",
    "# Build a timedelta of 30 days: glanceback\n",
    "glanceback = timedelta(days=30)\n",
    "\n",
    "# Iterate over the review_dates as date\n",
    "for date in review_dates:\n",
    "    # Calculate the date 30 days back: prior_period_dt\n",
    "    prior_period_dt = date - glanceback\n",
    "    \n",
    "    # Print the review_date, day_type and total_ridership\n",
    "    print('Date: %s, Type: %s, Total Ridership: %s' %\n",
    "         (date, \n",
    "          daily_summaries[date]['day_type'], \n",
    "          daily_summaries[date]['total_ridership']))\n",
    "\n",
    "    # Print the prior_period_dt, day_type and total_ridership\n",
    "    print('Date: %s, Type: %s, Total Ridership: %s' %\n",
    "         (prior_period_dt, \n",
    "          daily_summaries[prior_period_dt]['day_type'], \n",
    "          daily_summaries[prior_period_dt]['total_ridership']))"
   ]
  },
  {
   "cell_type": "code",
   "execution_count": 45,
   "metadata": {},
   "outputs": [
    {
     "name": "stdout",
     "output_type": "stream",
     "text": [
      "<class 'zip'>\n",
      "2001-03-31 00:00:00 2001-03-01 00:00:00\n",
      "30 days, 0:00:00\n",
      "2001-04-30 00:00:00 2001-04-01 00:00:00\n",
      "29 days, 0:00:00\n",
      "2001-04-30 00:00:00 2001-04-15 00:00:00\n",
      "15 days, 0:00:00\n",
      "2001-05-31 00:00:00 2001-05-05 00:00:00\n",
      "26 days, 0:00:00\n"
     ]
    }
   ],
   "source": [
    "# Finding differences between times\n",
    "start_dates = [\n",
    "    datetime.strptime('2001-03-01', '%Y-%m-%d'), datetime.strptime('2001-04-01', '%Y-%m-%d'), \n",
    "    datetime.strptime('2001-04-15', '%Y-%m-%d'), datetime.strptime('2001-05-05', '%Y-%m-%d')\n",
    "]\n",
    "\n",
    "end_dates = [\n",
    "    datetime.strptime('2001-03-31', '%Y-%m-%d'), datetime.strptime('2001-04-30', '%Y-%m-%d'), \n",
    "    datetime.strptime('2001-04-30', '%Y-%m-%d'), datetime.strptime('2001-05-31', '%Y-%m-%d')\n",
    "]\n",
    "\n",
    "date_ranges = zip(start_dates, end_dates)\n",
    "print(type(date_ranges))\n",
    "\n",
    "# Iterate over the date_ranges\n",
    "for start_date, end_date in date_ranges:\n",
    "    # Print the End and Start Date\n",
    "    print(end_date, start_date)\n",
    "    # Print the difference between each end and start date\n",
    "    print(end_date - start_date)"
   ]
  },
  {
   "cell_type": "markdown",
   "metadata": {},
   "source": [
    "## Pendelum library"
   ]
  },
  {
   "cell_type": "code",
   "execution_count": 43,
   "metadata": {},
   "outputs": [
    {
     "name": "stdout",
     "output_type": "stream",
     "text": [
      "2020-07-26T12:33:28.683432-07:00\n"
     ]
    }
   ],
   "source": [
    "# Import the pendulum module\n",
    "import pendulum\n",
    "\n",
    "# Create a now datetime for Tokyo: tokyo_dt\n",
    "tokyo_dt = pendulum.now('Asia/Tokyo')\n",
    "\n",
    "# Covert the tokyo_dt to Los Angeles: la_dt\n",
    "la_dt = tokyo_dt.in_timezone('America/Los_Angeles')\n",
    "\n",
    "# Print the ISO 8601 string of la_dt\n",
    "print(la_dt.to_iso8601_string())"
   ]
  },
  {
   "cell_type": "code",
   "execution_count": 57,
   "metadata": {},
   "outputs": [
    {
     "name": "stdout",
     "output_type": "stream",
     "text": [
      "2001-03-31 2001-03-01\n",
      "30\n",
      "2001-04-30 2001-04-01\n",
      "29\n",
      "2001-04-30 2001-04-15\n",
      "15\n",
      "2001-05-31 2001-05-05\n",
      "26\n"
     ]
    }
   ],
   "source": [
    "start_dates = ['2001-03-01', '2001-04-01', '2001-04-15', '2001-05-05']\n",
    "end_dates = ['2001-03-31', '2001-04-30', '2001-04-30', '2001-05-31']\n",
    "date_ranges = zip(start_dates, end_dates)\n",
    "\n",
    "# Iterate over date_ranges\n",
    "for start_date, end_date in date_ranges:\n",
    "    # Print the End and Start Date\n",
    "    print(end_date, start_date)\n",
    "    \n",
    "    # Convert the start_date string to a pendulum date: start_dt \n",
    "    start_dt = pendulum.parse(start_date, strict = False)\n",
    "    \n",
    "    # Convert the end_date string to a pendulum date: end_dt \n",
    "    end_dt = pendulum.parse(end_date, strict = False)\n",
    "    \n",
    "    # Calculate the difference between end_dt and start_dt: diff_period\n",
    "    diff_period = end_dt - start_dt\n",
    "    \n",
    "    # Print the difference in days\n",
    "    print(diff_period.in_days())"
   ]
  },
  {
   "cell_type": "code",
   "execution_count": null,
   "metadata": {},
   "outputs": [],
   "source": []
  }
 ],
 "metadata": {
  "kernelspec": {
   "display_name": "Python 3",
   "language": "python",
   "name": "python3"
  },
  "language_info": {
   "codemirror_mode": {
    "name": "ipython",
    "version": 3
   },
   "file_extension": ".py",
   "mimetype": "text/x-python",
   "name": "python",
   "nbconvert_exporter": "python",
   "pygments_lexer": "ipython3",
   "version": "3.8.5"
  }
 },
 "nbformat": 4,
 "nbformat_minor": 4
}
